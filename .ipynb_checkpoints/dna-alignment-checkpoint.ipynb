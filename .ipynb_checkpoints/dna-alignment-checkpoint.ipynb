{
 "cells": [
  {
   "cell_type": "code",
   "execution_count": 11,
   "id": "c3d0f1a6-6dc0-4e8f-b9a6-62259982ac6f",
   "metadata": {},
   "outputs": [],
   "source": [
    "#! /usr/bin/env python3\n",
    "import numpy as np\n",
    "import time\n",
    "import psutil\n",
    "import functools\n",
    "import argparse\n",
    "import tracemalloc\n",
    "import pandas as pd\n",
    "import numpy as np\n",
    "import random\n",
    "import os\n",
    "import sys\n",
    "import matplotlib.pyplot as plt\n",
    "import random\n",
    "import os\n",
    "import pandas as pd\n",
    "import sys\n",
    "\n",
    "plt.rcParams['figure.figsize'] = [6, 4]\n",
    "plt.rcParams['figure.dpi'] = 100 # 200 e.g. is really fine, but slower\n",
    "\n",
    "delta = 30\n",
    "alpha = {\"A\": {\"A\":0,\"C\":110,\"G\":48,\"T\":94},\n",
    "         \"C\": {\"A\":110,\"C\":0,\"G\":118,\"T\":48},\n",
    "         \"G\": {\"A\":48,\"C\":118,\"G\":0,\"T\":110},\n",
    "         \"T\": {\"A\":94,\"C\":48,\"G\":110,\"T\":0}}"
   ]
  },
  {
   "cell_type": "code",
   "execution_count": 12,
   "id": "07b35162-78c7-4eba-8dc9-d334e21c4070",
   "metadata": {},
   "outputs": [],
   "source": [
    "def record_resource(func):\n",
    "    @functools.wraps(func)\n",
    "    def wrapped_func(*args, **kwargs):\n",
    "        tracemalloc.start()\n",
    "        start = time.time()\n",
    "        out = func(*args, **kwargs)\n",
    "        t = time.time()-start\n",
    "        current, peak = tracemalloc.get_traced_memory()\n",
    "        tracemalloc.stop()\n",
    "        return out, t, peak\n",
    "    return wrapped_func\n",
    "\n",
    "def generate_string(inputxt):\n",
    "    bases, pos = [], []\n",
    "    with open(inputxt, \"r\") as f:\n",
    "        for line in f:\n",
    "            line = line.strip()\n",
    "            if line[0] in set([\"A\",\"T\",\"C\",\"G\"]):\n",
    "                if len(bases)!=0:\n",
    "                    pos.append(tmp)\n",
    "                    tmp = []\n",
    "                else:\n",
    "                    tmp = []\n",
    "                bases.append(line)\n",
    "            else:\n",
    "                tmp.append(int(line))\n",
    "        pos.append(tmp)\n",
    "    res = []\n",
    "    for i,seq in enumerate(bases):\n",
    "        length = len(seq)\n",
    "        for j in pos[i]:\n",
    "            seq = seq[0:j+1]+seq+seq[j+1:]\n",
    "        assert len(seq) == 2**len(pos[i])*length\n",
    "        res.append(seq)\n",
    "    return res"
   ]
  },
  {
   "cell_type": "code",
   "execution_count": 13,
   "id": "7b51c8e9-6702-4a5d-8ad2-29a3d0f55f59",
   "metadata": {},
   "outputs": [],
   "source": [
    "class BASIC:\n",
    "    \n",
    "    def __init__(self, X, Y, alpha, delta):\n",
    "        self.X = X\n",
    "        self.Y = Y\n",
    "        self.alpha = alpha\n",
    "        self.delta = delta\n",
    "        self.opt = self.find_opt(X,Y,alpha,delta)\n",
    "        self.seqx, self.seqy = self.get_sol(X, Y, self.opt)\n",
    "        self.cost = str(float(self.opt[-1,-1]))\n",
    "        \n",
    "    def find_opt(self, X, Y, alpha, delta):\n",
    "        m, n = len(X), len(Y)\n",
    "        opt = np.full((n+1,m+1),np.inf)\n",
    "        opt[0,:] = [k*delta for k in range(m+1)]\n",
    "        opt[:,0] = [k*delta for k in range(n+1)]\n",
    "        for i in range(1,n+1):\n",
    "            for j in range(1,m+1):\n",
    "                alt1 = opt[i-1,j-1]+alpha[Y[i-1]][X[j-1]] #mismatch\n",
    "                alt2 = opt[i,j-1]+delta # X not in alignment\n",
    "                alt3 = opt[i-1,j]+delta # Y not in alignment\n",
    "                opt[i,j] = np.min([alt1, alt2, alt3]) # mismtach>X:\"_\" >Y:\"_\" when the cost are the same\n",
    "        return opt\n",
    "                \n",
    "    def get_sol(self, X, Y, opt):\n",
    "        # retrieve the optimal alignment\n",
    "        seqx, seqy = \"\", \"\"\n",
    "        opti, optj = len(Y), len(X)\n",
    "        if opti == 0:\n",
    "            return X, \"_\"*optj\n",
    "        elif optj == 0:\n",
    "            return \"_\"*opti, Y\n",
    "        else:\n",
    "            pass        \n",
    "        while True:\n",
    "            alt1, alt2, alt3 = np.inf, np.inf, np.inf\n",
    "            if opti-1>=0 and optj-1>=0: #mismatch\n",
    "                alt1 = opt[opti-1, optj-1] + alpha[Y[opti-1]][X[optj-1]]\n",
    "            if optj-1>=0: # X aligned to \"_\"\n",
    "                alt2 = opt[opti, optj-1] + delta\n",
    "            if opti-1>=0:  # Y aligned to \"_\"\n",
    "                alt3 = opt[opti-1, optj]+ delta\n",
    "            index = np.argmin([alt1, alt2, alt3])\n",
    "            if index == 0:\n",
    "                seqx = X[optj-1]+seqx\n",
    "                seqy = Y[opti-1]+seqy\n",
    "                opti, optj =opti-1, optj-1\n",
    "            elif index == 1:\n",
    "                seqx = X[optj-1]+seqx\n",
    "                seqy = \"_\" +seqy\n",
    "                opti, optj =opti, optj-1\n",
    "            else:\n",
    "                seqx = \"_\"+seqx\n",
    "                seqy = Y[opti-1] +seqy\n",
    "                opti, optj =opti-1, optj\n",
    "            if opti ==0 and optj ==0:\n",
    "                break\n",
    "        return seqx,seqy  "
   ]
  },
  {
   "cell_type": "code",
   "execution_count": 14,
   "id": "41c3d194-7237-455f-a6e3-9fecf40a4704",
   "metadata": {},
   "outputs": [],
   "source": [
    "class EFFICIENT:\n",
    "    \n",
    "    def __init__(self, X, Y, alpha, delta):\n",
    "        self.X = X\n",
    "        self.Y = Y\n",
    "        self.alpha = alpha\n",
    "        self.delta = delta\n",
    "        self.seqx, self.seqy, self.cost = self.divide_conquer(X,Y,alpha, delta)\n",
    "        self.cost = str(float(self.cost))\n",
    "        \n",
    "    def find_opt(self, X, Y, alpha, delta):\n",
    "        m, n = len(X), len(Y)\n",
    "        r = min(2,n+1)\n",
    "        opt = np.full((r,m+1),np.inf)\n",
    "        opt[0,:] = [k*delta for k in range(m+1)]\n",
    "        opt[:,0] = [k*delta for k in range(r)]\n",
    "        for i in range(1,n+1):\n",
    "            for j in range(m+1):\n",
    "                alt1, alt2, alt3 = np.inf, np.inf, np.inf\n",
    "                if i-1>=0 and j-1>=0: #mismatch\n",
    "                    alt1 = opt[0,j-1]+alpha[Y[i-1]][X[j-1]]\n",
    "                if j-1>=0:  #X aligned to \"_\"\n",
    "                    alt2 = opt[1,j-1]+delta\n",
    "                if i-1>=0:  #Y aligned to \"_\"\n",
    "                    alt3 = opt[0,j]+delta\n",
    "                opt[1,j] = np.min([alt1, alt2, alt3]) # mismtach>X:\"_\" >Y:\"_\" when the cost are the same\n",
    "            if i!=n:\n",
    "                opt[0,:] = opt[-1,:]\n",
    "        return opt[-1,:] #opt[r-1,m]\n",
    "    \n",
    "    def divide_conquer(self, X,Y,alpha, delta): \n",
    "        m, n = len(X),len(Y)\n",
    "        if m == 0:\n",
    "            return \"_\"*n,Y, delta*n\n",
    "        if m == 1:\n",
    "            if n == 0:\n",
    "                return X,\"_\",delta\n",
    "            else:\n",
    "                mismatch = np.array([alpha[X][i] for i in Y])\n",
    "                index = np.argmin(mismatch)\n",
    "                if mismatch[index]<=delta*2:\n",
    "                    return \"_\"*index+X+\"_\"*(n-index-1), Y, mismatch[index]+(n-1)*delta\n",
    "                else:\n",
    "                    return \"_\"*n+X, Y+\"_\", delta*2+(n-1)*delta\n",
    "        if n <= 1:\n",
    "            ry, rx, cost = self.divide_conquer(Y, X, alpha, delta)\n",
    "            return rx, ry, cost\n",
    "        \n",
    "        XL, XR = X[0:int(m/2)], X[int(m/2):]\n",
    "        opt_left = self.find_opt(Y, XL, alpha, delta)\n",
    "        opt_right = self.find_opt(Y[::-1], XR[::-1], alpha, delta)\n",
    "        opt = opt_left+np.flip(opt_right, axis=0)\n",
    "        opti = np.argmin(opt)\n",
    "        cost = opt[opti]\n",
    "        left_x, left_y, _ = self.divide_conquer(XL, Y[0:opti], alpha, delta)\n",
    "        right_x, right_y, _ = self.divide_conquer(XR[::-1], Y[opti:][::-1], alpha, delta)\n",
    "        seqx = left_x+right_x[::-1]\n",
    "        seqy = left_y+right_y[::-1]\n",
    "        return seqx, seqy, cost"
   ]
  },
  {
   "cell_type": "code",
   "execution_count": 10,
   "id": "05a6c81b-46a5-4783-8ad6-cd9b023e8473",
   "metadata": {},
   "outputs": [],
   "source": [
    "@record_resource\n",
    "def run(inputfile, func):\n",
    "    X,Y = generate_string(inputfile)\n",
    "    inst = func(X,Y,alpha,delta)\n",
    "    cost = inst.cost\n",
    "    return X, Y, inst.cost, inst.seqx, inst.seqy \n",
    "\n",
    "def main(inputfile, func, outdir):\n",
    "    (X, Y, cost, seqx, seqy), t, peak = run(inputfile, func)\n",
    "    os.system(\"mkdir -p \"+outdir)\n",
    "    outfile = outdir+\"/output.txt\"\n",
    "    with open(outfile, \"w\") as f:\n",
    "        f.write(seqx[0:50]+\" \"+seqx[-50:]+\"\\n\")\n",
    "        f.write(seqy[0:50]+\" \"+seqy[-50:]+\"\\n\")\n",
    "        f.write(str(cost)+\"\\n\"+str(t)+\"\\n\"+str(peak)+\"\\n\")\n",
    "    return np.array([len(X), len(Y),  len(X)+len(Y), cost, t, peak])"
   ]
  },
  {
   "cell_type": "code",
   "execution_count": 11,
   "id": "746e57df-8bab-4a71-a274-193742414bab",
   "metadata": {},
   "outputs": [],
   "source": [
    "def my_plotter(x, y1, y2, **kwargs):\n",
    "    fig, ax = plt.subplots()  \n",
    "    ax.plot(x, y1,'o-', label='basic_solution')\n",
    "    ax.plot(x, y2,'o-', label='efficient_solution')\n",
    "    ax.set_xlabel(\"problem_size\")\n",
    "    ax.set_ylabel(kwargs[\"ylabel\"])\n",
    "    ax.set_title(kwargs[\"title\"])\n",
    "    ax.legend()\n",
    "    fig.savefig(\"a.png\",dpi=480,bbox_inches='tight',transparent=False, pad_inches=0)"
   ]
  },
  {
   "cell_type": "code",
   "execution_count": 18,
   "id": "6ff90230-126c-4bda-b952-2e8acc731b43",
   "metadata": {},
   "outputs": [],
   "source": [
    "def simulation(max_base_num, max_line_num, num, outdir):\n",
    "    os.system(\"mkdir -p \"+outdir)\n",
    "    n=1\n",
    "    while n <= num:\n",
    "        xbase = random.choices(\"ATCG\", k=random.choice(range(2,max_base_num)))\n",
    "        ybase = random.choices(\"ATCG\", k=random.choice(range(2,max_base_num)))\n",
    "        xline = [random.choice(range(2**i*len(xbase))) for i in range(random.choice(range(4,max_line_num)))]\n",
    "        yline = [random.choice(range(2**i*len(ybase))) for i in range(random.choice(range(4,max_line_num)))]\n",
    "        with open(outdir+\"/input\"+str(n)+\".txt\", \"w\") as f:\n",
    "            f.write(\"\".join(xbase)+\"\\n\")\n",
    "            if xline!=[]:\n",
    "                f.write(\"\\n\".join([str(i) for i in xline])+\"\\n\")\n",
    "            f.write(\"\".join(ybase)+\"\\n\")\n",
    "            if yline!=[]:\n",
    "                f.write(\"\\n\".join([str(i) for i in yline])+\"\\n\")\n",
    "        n = n+1\n",
    "    return os.path.abspath(outdir)\n",
    "#outdir = simulation(max_base_num=6, max_line_num=8, num=200, outdir=os.getcwd()+\"/simulation\")"
   ]
  },
  {
   "cell_type": "code",
   "execution_count": 16,
   "id": "f5004b37-1468-47b6-a85c-b25cfc72e20f",
   "metadata": {},
   "outputs": [],
   "source": [
    "result = np.zeros((200,9))\n",
    "for i in range(200):\n",
    "    rawdir = \"/Users/yongshengli/Documents/codes/seqalign/simulation\"\n",
    "    print(i,end=\", \")\n",
    "    result[i,0:6] = main(rawdir+\"/input\"+str(i+1)+\".txt\", BASIC, rawdir+\"/basic_output\"+str(i+1))\n",
    "    temp = main(rawdir+\"/input\"+str(i+1)+\".txt\", EFFICIENT, rawdir+\"/efficient_output\"+str(i+1))\n",
    "    result[i,6:9] = temp[3:6]\n",
    "result = pd.DataFrame(result)\n",
    "result.columns = [\"m\",\"n\",\"problem_size\",\"cost_basic\",\"time_basic\",\"mem_basic\",\"cost_efficient\",\"time_efficient\",\"mem_efficient\"]\n",
    "result = result.sort_values(by=\"problem_size\")\n",
    "assert sum(result[\"cost_basic\"] == result[\"cost_efficient\"])"
   ]
  },
  {
   "cell_type": "code",
   "execution_count": 15,
   "id": "16040b4a-8b20-4c1b-833e-08df0ad8a539",
   "metadata": {},
   "outputs": [
    {
     "data": {
      "image/png": "[encoded data removed]",
      "text/plain": [
       "<Figure size 600x400 with 1 Axes>"
      ]
     },
     "metadata": {
      "needs_background": "light"
     },
     "output_type": "display_data"
    }
   ],
   "source": [
    "my_plotter(result[\"problem_size\"], result[\"time_basic\"], result[\"time_efficient\"], ylabel=\"cpu time\", title=\"CPU time vs problem size\")"
   ]
  },
  {
   "cell_type": "code",
   "execution_count": 16,
   "id": "2fb22f28-3528-46bf-8186-866571ac613b",
   "metadata": {},
   "outputs": [
    {
     "data": {
      "image/png": "[encoded data removed]",
      "text/plain": [
       "<Figure size 600x400 with 1 Axes>"
      ]
     },
     "metadata": {
      "needs_background": "light"
     },
     "output_type": "display_data"
    }
   ],
   "source": [
    "my_plotter(result[\"problem_size\"], result[\"mem_basic\"], result[\"mem_efficient\"], ylabel=\"memory consumption\", title=\"memory consumption vs problem size\")"
   ]
  },
  {
   "cell_type": "code",
   "execution_count": 18,
   "id": "05f7dd0d-9ad8-4100-8b7c-4d94d205c61e",
   "metadata": {},
   "outputs": [],
   "source": [
    "def main(inputfile, func, outdir):\n",
    "    (X, Y, cost, seqx, seqy), t, peak = run(inputfile, func)\n",
    "    os.system(\"mkdir -p \"+outdir)\n",
    "    outfile = outdir+\"/output.txt\"\n",
    "    with open(outfile, \"w\") as f:\n",
    "        f.write(seqx[0:50]+\" \"+seqx[-50:]+\"\\n\")\n",
    "        f.write(seqy[0:50]+\" \"+seqy[-50:]+\"\\n\")\n",
    "        f.write(str(cost)+\"\\n\"+str(t)+\"\\n\"+str(peak)+\"\\n\")\n",
    "    with open(outfile,\"r\") as f:\n",
    "        content = f.readlines()\n",
    "    return \"\".join(content)"
   ]
  },
  {
   "cell_type": "code",
   "execution_count": 17,
   "id": "a77d4a8a-fd8f-44aa-b46c-c7064b38fa68",
   "metadata": {},
   "outputs": [
    {
     "ename": "FileNotFoundError",
     "evalue": "[Errno 2] No such file or directory: 'input1.txt'",
     "output_type": "error",
     "traceback": [
      "\u001b[0;31m---------------------------------------------------------------------------\u001b[0m",
      "\u001b[0;31mFileNotFoundError\u001b[0m                         Traceback (most recent call last)",
      "\u001b[0;32m/var/folders/wj/ls4f5d596cvcc4n7dvd8vjch0000gn/T/ipykernel_44650/1142970025.py\u001b[0m in \u001b[0;36m<module>\u001b[0;34m\u001b[0m\n\u001b[0;32m----> 1\u001b[0;31m \u001b[0mprint\u001b[0m\u001b[0;34m(\u001b[0m\u001b[0mmain\u001b[0m\u001b[0;34m(\u001b[0m\u001b[0;34m\"input1.txt\"\u001b[0m\u001b[0;34m,\u001b[0m \u001b[0mBASIC\u001b[0m\u001b[0;34m,\u001b[0m \u001b[0;34m\"./\"\u001b[0m\u001b[0;34m)\u001b[0m\u001b[0;34m)\u001b[0m\u001b[0;34m\u001b[0m\u001b[0;34m\u001b[0m\u001b[0m\n\u001b[0m",
      "\u001b[0;32m/var/folders/wj/ls4f5d596cvcc4n7dvd8vjch0000gn/T/ipykernel_44650/2333747571.py\u001b[0m in \u001b[0;36mmain\u001b[0;34m(inputfile, func, outdir)\u001b[0m\n\u001b[1;32m      7\u001b[0m \u001b[0;34m\u001b[0m\u001b[0m\n\u001b[1;32m      8\u001b[0m \u001b[0;32mdef\u001b[0m \u001b[0mmain\u001b[0m\u001b[0;34m(\u001b[0m\u001b[0minputfile\u001b[0m\u001b[0;34m,\u001b[0m \u001b[0mfunc\u001b[0m\u001b[0;34m,\u001b[0m \u001b[0moutdir\u001b[0m\u001b[0;34m)\u001b[0m\u001b[0;34m:\u001b[0m\u001b[0;34m\u001b[0m\u001b[0;34m\u001b[0m\u001b[0m\n\u001b[0;32m----> 9\u001b[0;31m     \u001b[0;34m(\u001b[0m\u001b[0mX\u001b[0m\u001b[0;34m,\u001b[0m \u001b[0mY\u001b[0m\u001b[0;34m,\u001b[0m \u001b[0mcost\u001b[0m\u001b[0;34m,\u001b[0m \u001b[0mseqx\u001b[0m\u001b[0;34m,\u001b[0m \u001b[0mseqy\u001b[0m\u001b[0;34m)\u001b[0m\u001b[0;34m,\u001b[0m \u001b[0mt\u001b[0m\u001b[0;34m,\u001b[0m \u001b[0mpeak\u001b[0m \u001b[0;34m=\u001b[0m \u001b[0mrun\u001b[0m\u001b[0;34m(\u001b[0m\u001b[0minputfile\u001b[0m\u001b[0;34m,\u001b[0m \u001b[0mfunc\u001b[0m\u001b[0;34m)\u001b[0m\u001b[0;34m\u001b[0m\u001b[0;34m\u001b[0m\u001b[0m\n\u001b[0m\u001b[1;32m     10\u001b[0m     \u001b[0mos\u001b[0m\u001b[0;34m.\u001b[0m\u001b[0msystem\u001b[0m\u001b[0;34m(\u001b[0m\u001b[0;34m\"mkdir -p \"\u001b[0m\u001b[0;34m+\u001b[0m\u001b[0moutdir\u001b[0m\u001b[0;34m)\u001b[0m\u001b[0;34m\u001b[0m\u001b[0;34m\u001b[0m\u001b[0m\n\u001b[1;32m     11\u001b[0m     \u001b[0moutfile\u001b[0m \u001b[0;34m=\u001b[0m \u001b[0moutdir\u001b[0m\u001b[0;34m+\u001b[0m\u001b[0;34m\"/output.txt\"\u001b[0m\u001b[0;34m\u001b[0m\u001b[0;34m\u001b[0m\u001b[0m\n",
      "\u001b[0;32m/var/folders/wj/ls4f5d596cvcc4n7dvd8vjch0000gn/T/ipykernel_44650/369312696.py\u001b[0m in \u001b[0;36mwrapped_func\u001b[0;34m(*args, **kwargs)\u001b[0m\n\u001b[1;32m      4\u001b[0m         \u001b[0mtracemalloc\u001b[0m\u001b[0;34m.\u001b[0m\u001b[0mstart\u001b[0m\u001b[0;34m(\u001b[0m\u001b[0;34m)\u001b[0m\u001b[0;34m\u001b[0m\u001b[0;34m\u001b[0m\u001b[0m\n\u001b[1;32m      5\u001b[0m         \u001b[0mstart\u001b[0m \u001b[0;34m=\u001b[0m \u001b[0mtime\u001b[0m\u001b[0;34m.\u001b[0m\u001b[0mtime\u001b[0m\u001b[0;34m(\u001b[0m\u001b[0;34m)\u001b[0m\u001b[0;34m\u001b[0m\u001b[0;34m\u001b[0m\u001b[0m\n\u001b[0;32m----> 6\u001b[0;31m         \u001b[0mout\u001b[0m \u001b[0;34m=\u001b[0m \u001b[0mfunc\u001b[0m\u001b[0;34m(\u001b[0m\u001b[0;34m*\u001b[0m\u001b[0margs\u001b[0m\u001b[0;34m,\u001b[0m \u001b[0;34m**\u001b[0m\u001b[0mkwargs\u001b[0m\u001b[0;34m)\u001b[0m\u001b[0;34m\u001b[0m\u001b[0;34m\u001b[0m\u001b[0m\n\u001b[0m\u001b[1;32m      7\u001b[0m         \u001b[0mt\u001b[0m \u001b[0;34m=\u001b[0m \u001b[0mtime\u001b[0m\u001b[0;34m.\u001b[0m\u001b[0mtime\u001b[0m\u001b[0;34m(\u001b[0m\u001b[0;34m)\u001b[0m\u001b[0;34m-\u001b[0m\u001b[0mstart\u001b[0m\u001b[0;34m\u001b[0m\u001b[0;34m\u001b[0m\u001b[0m\n\u001b[1;32m      8\u001b[0m         \u001b[0mcurrent\u001b[0m\u001b[0;34m,\u001b[0m \u001b[0mpeak\u001b[0m \u001b[0;34m=\u001b[0m \u001b[0mtracemalloc\u001b[0m\u001b[0;34m.\u001b[0m\u001b[0mget_traced_memory\u001b[0m\u001b[0;34m(\u001b[0m\u001b[0;34m)\u001b[0m\u001b[0;34m\u001b[0m\u001b[0;34m\u001b[0m\u001b[0m\n",
      "\u001b[0;32m/var/folders/wj/ls4f5d596cvcc4n7dvd8vjch0000gn/T/ipykernel_44650/2333747571.py\u001b[0m in \u001b[0;36mrun\u001b[0;34m(inputfile, func)\u001b[0m\n\u001b[1;32m      1\u001b[0m \u001b[0;34m@\u001b[0m\u001b[0mrecord_resource\u001b[0m\u001b[0;34m\u001b[0m\u001b[0;34m\u001b[0m\u001b[0m\n\u001b[1;32m      2\u001b[0m \u001b[0;32mdef\u001b[0m \u001b[0mrun\u001b[0m\u001b[0;34m(\u001b[0m\u001b[0minputfile\u001b[0m\u001b[0;34m,\u001b[0m \u001b[0mfunc\u001b[0m\u001b[0;34m)\u001b[0m\u001b[0;34m:\u001b[0m\u001b[0;34m\u001b[0m\u001b[0;34m\u001b[0m\u001b[0m\n\u001b[0;32m----> 3\u001b[0;31m     \u001b[0mX\u001b[0m\u001b[0;34m,\u001b[0m\u001b[0mY\u001b[0m \u001b[0;34m=\u001b[0m \u001b[0mgenerate_string\u001b[0m\u001b[0;34m(\u001b[0m\u001b[0minputfile\u001b[0m\u001b[0;34m)\u001b[0m\u001b[0;34m\u001b[0m\u001b[0;34m\u001b[0m\u001b[0m\n\u001b[0m\u001b[1;32m      4\u001b[0m     \u001b[0minst\u001b[0m \u001b[0;34m=\u001b[0m \u001b[0mfunc\u001b[0m\u001b[0;34m(\u001b[0m\u001b[0mX\u001b[0m\u001b[0;34m,\u001b[0m\u001b[0mY\u001b[0m\u001b[0;34m,\u001b[0m\u001b[0malpha\u001b[0m\u001b[0;34m,\u001b[0m\u001b[0mdelta\u001b[0m\u001b[0;34m)\u001b[0m\u001b[0;34m\u001b[0m\u001b[0;34m\u001b[0m\u001b[0m\n\u001b[1;32m      5\u001b[0m     \u001b[0mcost\u001b[0m \u001b[0;34m=\u001b[0m \u001b[0minst\u001b[0m\u001b[0;34m.\u001b[0m\u001b[0mcost\u001b[0m\u001b[0;34m\u001b[0m\u001b[0;34m\u001b[0m\u001b[0m\n",
      "\u001b[0;32m/var/folders/wj/ls4f5d596cvcc4n7dvd8vjch0000gn/T/ipykernel_44650/369312696.py\u001b[0m in \u001b[0;36mgenerate_string\u001b[0;34m(inputxt)\u001b[0m\n\u001b[1;32m     13\u001b[0m \u001b[0;32mdef\u001b[0m \u001b[0mgenerate_string\u001b[0m\u001b[0;34m(\u001b[0m\u001b[0minputxt\u001b[0m\u001b[0;34m)\u001b[0m\u001b[0;34m:\u001b[0m\u001b[0;34m\u001b[0m\u001b[0;34m\u001b[0m\u001b[0m\n\u001b[1;32m     14\u001b[0m     \u001b[0mbases\u001b[0m\u001b[0;34m,\u001b[0m \u001b[0mpos\u001b[0m \u001b[0;34m=\u001b[0m \u001b[0;34m[\u001b[0m\u001b[0;34m]\u001b[0m\u001b[0;34m,\u001b[0m \u001b[0;34m[\u001b[0m\u001b[0;34m]\u001b[0m\u001b[0;34m\u001b[0m\u001b[0;34m\u001b[0m\u001b[0m\n\u001b[0;32m---> 15\u001b[0;31m     \u001b[0;32mwith\u001b[0m \u001b[0mopen\u001b[0m\u001b[0;34m(\u001b[0m\u001b[0minputxt\u001b[0m\u001b[0;34m,\u001b[0m \u001b[0;34m\"r\"\u001b[0m\u001b[0;34m)\u001b[0m \u001b[0;32mas\u001b[0m \u001b[0mf\u001b[0m\u001b[0;34m:\u001b[0m\u001b[0;34m\u001b[0m\u001b[0;34m\u001b[0m\u001b[0m\n\u001b[0m\u001b[1;32m     16\u001b[0m         \u001b[0;32mfor\u001b[0m \u001b[0mline\u001b[0m \u001b[0;32min\u001b[0m \u001b[0mf\u001b[0m\u001b[0;34m:\u001b[0m\u001b[0;34m\u001b[0m\u001b[0;34m\u001b[0m\u001b[0m\n\u001b[1;32m     17\u001b[0m             \u001b[0mline\u001b[0m \u001b[0;34m=\u001b[0m \u001b[0mline\u001b[0m\u001b[0;34m.\u001b[0m\u001b[0mstrip\u001b[0m\u001b[0;34m(\u001b[0m\u001b[0;34m)\u001b[0m\u001b[0;34m\u001b[0m\u001b[0;34m\u001b[0m\u001b[0m\n",
      "\u001b[0;31mFileNotFoundError\u001b[0m: [Errno 2] No such file or directory: 'input1.txt'"
     ]
    }
   ],
   "source": [
    "print(main(\"input1.txt\", BASIC, \"./\"))"
   ]
  },
  {
   "cell_type": "code",
   "execution_count": 20,
   "id": "66ec8001-6518-46df-a707-004bb7e8b0c1",
   "metadata": {},
   "outputs": [
    {
     "name": "stdout",
     "output_type": "stream",
     "text": [
      "_A_CA_CACT__G__A_C_TAC_TGACTG_GTGA__C_TACTGACTGGAC GTGA__C_TACTGACTGGACTGACTACTGACTGGTGACTACT_GACTG_G\n",
      "TATTATTA_TACGCTATTATACGCGAC_GCG_GACGCGTA_T_AC__G_C G_GACGCGTA_T_AC__G_CT_ATTA_T_AC__GCGAC_GC_GGAC_GCG\n",
      "1296.0\n",
      "0.224\n",
      "31532.0"
     ]
    }
   ],
   "source": [
    "!cat BaseTestcases_CS570FinalProject_Updated/output1.txt"
   ]
  },
  {
   "cell_type": "code",
   "execution_count": 21,
   "id": "4dfabf57-293e-4c3e-9e8f-0c461657d615",
   "metadata": {},
   "outputs": [
    {
     "name": "stdout",
     "output_type": "stream",
     "text": [
      "_AC_AC_A__CTG__ACT__AC_TGACTG_GTGA__C_TACTGACTGGAC GTGA__C_TACTGACTGGACTGACTACTGACTGGTGACTACTG_ACTG_G\n",
      "TATTATTATAC_GCTATTATACGCGAC_GCG_GACGCGTA_T_AC_G__C G_GACGCGTA_T_AC_G__CT_ATTA_T_AC_G_CGAC_GC_GGAC_GCG\n",
      "1296.0\n",
      "0.288909912109375\n",
      "15415\n",
      "\n"
     ]
    }
   ],
   "source": [
    "print(main(\"BaseTestcases_CS570FinalProject_Updated/input1.txt\", EFFICIENT, \"./\"))"
   ]
  },
  {
   "cell_type": "code",
   "execution_count": 22,
   "id": "e76d9ef7-3a9b-43e0-986c-f0e016f7eaf7",
   "metadata": {},
   "outputs": [
    {
     "name": "stdout",
     "output_type": "stream",
     "text": [
      "ACACACTGACTACTGACTGGTGACTACTGACTGGACTGACTACTGACTGG CTGGTGACTACTGACTGGACTGACTACTGACTGGTGACTAC_TGACTG_G\n",
      "__________T__T_A_T__T_A_TAC_G_C__GAC_G____C_GA_T__ _T__T_A_TAC_G_C__GAC_G____C_GA_T__T_A_TACGCGAC_GCG\n",
      "1128.0\n",
      "0.08280205726623535\n",
      "21782\n",
      "\n"
     ]
    }
   ],
   "source": [
    "print(main(\"BaseTestcases_CS570FinalProject_Updated/input2.txt\", BASIC, \"./\"))"
   ]
  },
  {
   "cell_type": "code",
   "execution_count": 23,
   "id": "9622927a-c5fb-4707-90c9-b73b36ac325c",
   "metadata": {},
   "outputs": [
    {
     "name": "stdout",
     "output_type": "stream",
     "text": [
      "ACACACTGACTACTGACTGGTGACTACTGACTGGACTGACTACTGACTGG CTGGTGACTACTGACTGGACTGACTACTGACTGGTGACTAC_TGACTG_G\n",
      "__________T__T_A_T__T_A_TAC_G_C__GAC_G____C_GA_T__ _T__T_A_TAC_G_C__GAC_G____C_GA_T__T_A_TACGCGAC_GCG\n",
      "1128.0\n",
      "0.221\n",
      "31220"
     ]
    }
   ],
   "source": [
    "!cat BaseTestcases_CS570FinalProject_Updated/output2.txt"
   ]
  },
  {
   "cell_type": "code",
   "execution_count": 24,
   "id": "b07d9269-f32c-4a9f-a99d-122c5c01d367",
   "metadata": {},
   "outputs": [
    {
     "name": "stdout",
     "output_type": "stream",
     "text": [
      "ACACACTGACTACTGACTGGTGACTACTGACTGGACTGACTACTGACTGG CTGGTGACTACTGACTGGACTGACTACTGACTGGTGACTAC_TGACTG_G\n",
      "__________T__T_A_T__T_A_TAC_G_C_G_AC_G____C_GA_T__ _T__T_A_TAC_G_C_G_AC_G____C_GA_T__T_A_TACGCGAC_GCG\n",
      "1128.0\n",
      "0.16672492027282715\n",
      "13863\n",
      "\n"
     ]
    }
   ],
   "source": [
    "print(main(\"BaseTestcases_CS570FinalProject_Updated/input2.txt\", EFFICIENT, \"./\"))"
   ]
  },
  {
   "cell_type": "code",
   "execution_count": 25,
   "id": "17b1dde3-186b-4a7c-aec3-3ca768143068",
   "metadata": {},
   "outputs": [
    {
     "name": "stdout",
     "output_type": "stream",
     "text": [
      "  0.0\n"
     ]
    }
   ],
   "source": [
    "inst = BASIC(\"\",\"\",alpha,delta)\n",
    "print(inst.seqx, inst.seqy, inst.cost)"
   ]
  },
  {
   "cell_type": "code",
   "execution_count": 26,
   "id": "7ae12b9d-dfce-4b7c-82aa-a01477a486b9",
   "metadata": {},
   "outputs": [
    {
     "name": "stdout",
     "output_type": "stream",
     "text": [
      "  0.0\n"
     ]
    }
   ],
   "source": [
    "inst = EFFICIENT(\"\",\"\",alpha,delta)\n",
    "print(inst.seqx, inst.seqy, inst.cost)"
   ]
  },
  {
   "cell_type": "code",
   "execution_count": 27,
   "id": "5c049940-f12e-475a-b631-06cd3cb617e8",
   "metadata": {},
   "outputs": [
    {
     "name": "stdout",
     "output_type": "stream",
     "text": [
      "  0.0 | _ A 30.0 | _ T 30.0 | _ C 30.0 | _ G 30.0 |   0.0 | A _ 30.0 | T _ 30.0 | C _ 30.0 | G _ 30.0 | \n",
      "#\n",
      "  0.0 | _ A 30.0 | _ T 30.0 | _ C 30.0 | _ G 30.0 |   0.0 | A _ 30.0 | T _ 30.0 | C _ 30.0 | G _ 30.0 | "
     ]
    }
   ],
   "source": [
    "for i in [\"\",\"A\",\"T\",\"C\",\"G\"]:\n",
    "    inst = BASIC(\"\",i,alpha,delta)\n",
    "    print(inst.seqx, inst.seqy, inst.cost, end =\" | \")\n",
    "for i in [\"\", \"A\",\"T\",\"C\",\"G\"]:\n",
    "    inst = BASIC(i,\"\",alpha,delta)\n",
    "    print(inst.seqx, inst.seqy, inst.cost, end =\" | \")\n",
    "print(\"\\n#\")\n",
    "for i in [\"\", \"A\",\"T\",\"C\",\"G\"]:\n",
    "    inst = EFFICIENT(\"\",i,alpha,delta)\n",
    "    print(inst.seqx, inst.seqy, inst.cost, end =\" | \")\n",
    "for i in [\"\",\"A\",\"T\",\"C\",\"G\"]:\n",
    "    inst = EFFICIENT(i,\"\",alpha,delta)\n",
    "    print(inst.seqx, inst.seqy, inst.cost, end =\" | \")"
   ]
  },
  {
   "cell_type": "code",
   "execution_count": 28,
   "id": "9fd29973-853b-471c-b05c-8f36a13e01cc",
   "metadata": {},
   "outputs": [
    {
     "name": "stdout",
     "output_type": "stream",
     "text": [
      "___ AAA 90.0 | __ TG 60.0 | __ TC 60.0 | __ AT 60.0 | _____ AGTAG 150.0 | AAA ___ 90.0 | TG __ 60.0 | TC __ 60.0 | AT __ 60.0 | AGTAG _____ 150.0 | \n",
      "#\n",
      "___ AAA 90.0 | __ TG 60.0 | __ TC 60.0 | __ AT 60.0 | _____ AGTAG 150.0 | AAA ___ 90.0 | TG __ 60.0 | TC __ 60.0 | AT __ 60.0 | AGTAG _____ 150.0 | "
     ]
    }
   ],
   "source": [
    "for i in [\"AAA\",\"TG\",\"TC\",\"AT\",\"AGTAG\"]:\n",
    "    inst = BASIC(\"\",i,alpha,delta)\n",
    "    print(inst.seqx, inst.seqy, inst.cost, end =\" | \")\n",
    "for i in [\"AAA\",\"TG\",\"TC\",\"AT\",\"AGTAG\"]:\n",
    "    inst = BASIC(i,\"\",alpha,delta)\n",
    "    print(inst.seqx, inst.seqy, inst.cost, end =\" | \")\n",
    "print(\"\\n#\")\n",
    "for i in [\"AAA\",\"TG\",\"TC\",\"AT\",\"AGTAG\"]:\n",
    "    inst = EFFICIENT(\"\",i,alpha,delta)\n",
    "    print(inst.seqx, inst.seqy, inst.cost, end =\" | \")\n",
    "for i in [\"AAA\",\"TG\",\"TC\",\"AT\",\"AGTAG\"]:\n",
    "    inst = EFFICIENT(i,\"\",alpha,delta)\n",
    "    print(inst.seqx, inst.seqy, inst.cost, end =\" | \")"
   ]
  },
  {
   "cell_type": "code",
   "execution_count": 29,
   "id": "f7da4c26-ee17-4755-ace0-adb086074831",
   "metadata": {},
   "outputs": [
    {
     "name": "stdout",
     "output_type": "stream",
     "text": [
      "__A AAA 60.0 | ___C AAA_ 120.0 | __G AAA 108.0 | ___T AAA_ 120.0 | _A TG 78.0 | C_ TG 78.0 | _G TG 30.0 | T_ TG 30.0 | __A TC_ 90.0 | _C TC 30.0 | __G TC_ 90.0 | T_ TC 30.0 | A_ AT 30.0 | _C AT 78.0 | G_ AT 78.0 | _T AT 30.0 | ___A_ AGTAG 120.0 | __C__ AGTAG 168.0 | ____G AGTAG 120.0 | __T__ AGTAG 120.0 | AAA __A 60.0 | _AAA C___ 120.0 | AAA __G 108.0 | _AAA T___ 120.0 | TG _A 78.0 | TG C_ 78.0 | TG _G 30.0 | TG T_ 30.0 | _TC A__ 90.0 | TC _C 30.0 | _TC G__ 90.0 | TC T_ 30.0 | AT A_ 30.0 | AT _C 78.0 | AT G_ 78.0 | AT _T 30.0 | AGTAG ___A_ 120.0 | AGTAG __C__ 168.0 | AGTAG ____G 120.0 | AGTAG __T__ 120.0 | \n",
      "#\n",
      "A__ AAA 60.0 | ___C AAA_ 120.0 | G__ AAA 108.0 | ___T AAA_ 120.0 | _A TG 78.0 | C_ TG 78.0 | _G TG 30.0 | T_ TG 30.0 | __A TC_ 90.0 | _C TC 30.0 | __G TC_ 90.0 | T_ TC 30.0 | A_ AT 30.0 | _C AT 78.0 | G_ AT 78.0 | _T AT 30.0 | A____ AGTAG 120.0 | __C__ AGTAG 168.0 | _G___ AGTAG 120.0 | __T__ AGTAG 120.0 | AAA A__ 60.0 | AAA_ ___C 120.0 | AAA G__ 108.0 | AAA_ ___T 120.0 | TG _A 78.0 | TG C_ 78.0 | TG _G 30.0 | TG T_ 30.0 | TC_ __A 90.0 | TC _C 30.0 | TC_ __G 90.0 | TC T_ 30.0 | AT A_ 30.0 | AT _C 78.0 | AT G_ 78.0 | AT _T 30.0 | AGTAG A____ 120.0 | AGTAG __C__ 168.0 | AGTAG _G___ 120.0 | AGTAG __T__ 120.0 | "
     ]
    }
   ],
   "source": [
    "for i in [\"AAA\",\"TG\",\"TC\",\"AT\",\"AGTAG\"]:\n",
    "    for j in [\"A\",\"C\",\"G\",\"T\"]:\n",
    "        inst = BASIC(j,i,alpha,delta)\n",
    "        print(inst.seqx, inst.seqy, inst.cost, end =\" | \")\n",
    "for i in [\"AAA\",\"TG\",\"TC\",\"AT\",\"AGTAG\"]:\n",
    "    for j in [\"A\",\"C\",\"G\",\"T\"]:\n",
    "        inst = BASIC(i,j,alpha,delta)\n",
    "        print(inst.seqx, inst.seqy, inst.cost, end =\" | \")\n",
    "print(\"\\n#\")\n",
    "for i in [\"AAA\",\"TG\",\"TC\",\"AT\",\"AGTAG\"]:\n",
    "    for j in [\"A\",\"C\",\"G\",\"T\"]:\n",
    "        inst = EFFICIENT(j,i,alpha,delta)\n",
    "        print(inst.seqx, inst.seqy, inst.cost, end =\" | \")\n",
    "for i in [\"AAA\",\"TG\",\"TC\",\"AT\",\"AGTAG\"]:\n",
    "    for j in [\"A\",\"C\",\"G\",\"T\"]:\n",
    "        inst = EFFICIENT(i,j,alpha,delta)\n",
    "        print(inst.seqx, inst.seqy, inst.cost, end =\" | \")"
   ]
  }
 ],
 "metadata": {
  "kernelspec": {
   "display_name": "Python 3 (ipykernel)",
   "language": "python",
   "name": "python3"
  },
  "language_info": {
   "codemirror_mode": {
    "name": "ipython",
    "version": 3
   },
   "file_extension": ".py",
   "mimetype": "text/x-python",
   "name": "python",
   "nbconvert_exporter": "python",
   "pygments_lexer": "ipython3",
   "version": "3.9.5"
  }
 },
 "nbformat": 4,
 "nbformat_minor": 5
}
